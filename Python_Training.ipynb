{
 "cells": [
  {
   "cell_type": "markdown",
   "metadata": {},
   "source": [
    "# Training in Python:\n",
    "\n",
    "1) Return: a string formatted as a list of names separated by commas except for the last two names, which should be separated by an ampersand. [COMPLETED]\n",
    "\n",
    "        TODO:\n",
    "        - spiit init and end string\n",
    "        - check if lenght == 0\n",
    "        - check if lenght == 1\n",
    "        - format final result"
   ]
  },
  {
   "cell_type": "code",
   "execution_count": 126,
   "metadata": {},
   "outputs": [],
   "source": [
    "def namelist(names):\n",
    "    new_list = [elem['name'] for elem in names if elem['name'].isalpha()]\n",
    "    init_list = []\n",
    "    end_list = []\n",
    "    \n",
    "    for index, name in enumerate(new_list):\n",
    "        if len(new_list) >= 1:\n",
    "            if len(new_list) == 1:\n",
    "                return name\n",
    "            elif index < len(new_list)-2:\n",
    "                init_list.append(name)\n",
    "            else:\n",
    "                end_list.append(name)\n",
    "        \n",
    "    # prepare string format\n",
    "    if len(new_list) > 2:\n",
    "         return \"{}, {}\".format(\", \".join(init_list), \" & \".join(end_list))\n",
    "    elif len(new_list) == 2:\n",
    "        return \"{}\".format(\" & \".join(end_list))\n",
    "    elif len(new_list) == 0:\n",
    "        return \"\""
   ]
  },
  {
   "cell_type": "code",
   "execution_count": 127,
   "metadata": {},
   "outputs": [
    {
     "data": {
      "text/plain": [
       "'Bart, Lisa, Maggie, Homer & Marge'"
      ]
     },
     "execution_count": 127,
     "metadata": {},
     "output_type": "execute_result"
    }
   ],
   "source": [
    "namelist([{'name': 'Bart'},{'name': 'Lisa'},{'name': 'Maggie'},{'name': 'Homer'},{'name': 'Marge'}])"
   ]
  },
  {
   "cell_type": "code",
   "execution_count": 128,
   "metadata": {},
   "outputs": [
    {
     "data": {
      "text/plain": [
       "'Bart, Lisa & Maggie'"
      ]
     },
     "execution_count": 128,
     "metadata": {},
     "output_type": "execute_result"
    }
   ],
   "source": [
    "namelist([{'name': 'Bart'},{'name': 'Lisa'},{'name': 'Maggie'}])"
   ]
  },
  {
   "cell_type": "code",
   "execution_count": 129,
   "metadata": {},
   "outputs": [
    {
     "data": {
      "text/plain": [
       "'Bart & Lisa'"
      ]
     },
     "execution_count": 129,
     "metadata": {},
     "output_type": "execute_result"
    }
   ],
   "source": [
    "namelist([{'name': 'Bart'},{'name': 'Lisa'}])"
   ]
  },
  {
   "cell_type": "code",
   "execution_count": 130,
   "metadata": {},
   "outputs": [
    {
     "data": {
      "text/plain": [
       "''"
      ]
     },
     "execution_count": 130,
     "metadata": {},
     "output_type": "execute_result"
    }
   ],
   "source": [
    "namelist([])"
   ]
  },
  {
   "cell_type": "markdown",
   "metadata": {},
   "source": [
    "# @@@@@@@@@@@@@@@@@@@@@@@@@@@"
   ]
  },
  {
   "cell_type": "markdown",
   "metadata": {},
   "source": [
    "2) Write a reverseWords function that accepts a string a parameter, and reverses each word in the string. Any spaces in the string should be retained.[COMPLETED]"
   ]
  },
  {
   "cell_type": "code",
   "execution_count": 139,
   "metadata": {},
   "outputs": [],
   "source": [
    "def reverse_words(string):\n",
    "    return \" \".join([elem[::-1] for elem in string.split(\" \")])"
   ]
  },
  {
   "cell_type": "code",
   "execution_count": 140,
   "metadata": {},
   "outputs": [
    {
     "data": {
      "text/plain": [
       "'sihT si na !elpmaxe'"
      ]
     },
     "execution_count": 140,
     "metadata": {},
     "output_type": "execute_result"
    }
   ],
   "source": [
    "reverse_words('This is an example!')"
   ]
  },
  {
   "cell_type": "markdown",
   "metadata": {},
   "source": [
    "# @@@@@@@@@@@@@@@@@@@@@@@@@@@"
   ]
  },
  {
   "cell_type": "markdown",
   "metadata": {},
   "source": [
    "3) You have an array of numbers.Your task is to sort ascending odd numbers but even numbers must be on their places.Zero isn't an odd number and you don't need to move it. If you have an empty array, you need to return it."
   ]
  },
  {
   "cell_type": "code",
   "execution_count": 161,
   "metadata": {},
   "outputs": [],
   "source": [
    "def sort_odd_numbers(list_odd):\n",
    "    new_list = []\n",
    "    for index, elem in enumerate(list_odd):\n",
    "        print index, elem\n",
    "    \n",
    "def sort_array(source_array):\n",
    "    if len(source_array) == 0:\n",
    "        return source_array\n",
    "    else:\n",
    "        odd_numbers = [{'pos':index, 'num':n} for index, n in enumerate(source_array) if n%2 == 1]\n",
    "        even_numbers = [{'pos':index, 'num':n} for index, n in enumerate(source_array) if n%2 == 0]\n",
    "        ordered_odds = sort_odd_numbers(odd_numbers)\n",
    "        #         print odd_numbers\n",
    "        #         print even_numbers"
   ]
  },
  {
   "cell_type": "code",
   "execution_count": 153,
   "metadata": {
    "collapsed": true
   },
   "outputs": [
    {
     "data": {
      "text/plain": [
       "['__add__',\n",
       " '__class__',\n",
       " '__contains__',\n",
       " '__delattr__',\n",
       " '__delitem__',\n",
       " '__delslice__',\n",
       " '__doc__',\n",
       " '__eq__',\n",
       " '__format__',\n",
       " '__ge__',\n",
       " '__getattribute__',\n",
       " '__getitem__',\n",
       " '__getslice__',\n",
       " '__gt__',\n",
       " '__hash__',\n",
       " '__iadd__',\n",
       " '__imul__',\n",
       " '__init__',\n",
       " '__iter__',\n",
       " '__le__',\n",
       " '__len__',\n",
       " '__lt__',\n",
       " '__mul__',\n",
       " '__ne__',\n",
       " '__new__',\n",
       " '__reduce__',\n",
       " '__reduce_ex__',\n",
       " '__repr__',\n",
       " '__reversed__',\n",
       " '__rmul__',\n",
       " '__setattr__',\n",
       " '__setitem__',\n",
       " '__setslice__',\n",
       " '__sizeof__',\n",
       " '__str__',\n",
       " '__subclasshook__',\n",
       " 'append',\n",
       " 'count',\n",
       " 'extend',\n",
       " 'index',\n",
       " 'insert',\n",
       " 'pop',\n",
       " 'remove',\n",
       " 'reverse',\n",
       " 'sort']"
      ]
     },
     "execution_count": 153,
     "metadata": {},
     "output_type": "execute_result"
    }
   ],
   "source": [
    "dir([])"
   ]
  },
  {
   "cell_type": "code",
   "execution_count": 162,
   "metadata": {},
   "outputs": [
    {
     "name": "stdout",
     "output_type": "stream",
     "text": [
      "0 {'num': 5, 'pos': 0}\n",
      "1 {'num': 3, 'pos': 1}\n",
      "2 {'num': 1, 'pos': 4}\n",
      "0 {'num': 5, 'pos': 0}\n",
      "1 {'num': 3, 'pos': 1}\n",
      "2 {'num': 1, 'pos': 2}\n"
     ]
    },
    {
     "data": {
      "text/plain": [
       "[]"
      ]
     },
     "execution_count": 162,
     "metadata": {},
     "output_type": "execute_result"
    }
   ],
   "source": [
    "sort_array([5, 3, 2, 8, 1, 4])\n",
    "sort_array([5, 3, 1, 8, 0])\n",
    "sort_array([])"
   ]
  },
  {
   "cell_type": "code",
   "execution_count": null,
   "metadata": {},
   "outputs": [],
   "source": []
  },
  {
   "cell_type": "code",
   "execution_count": null,
   "metadata": {},
   "outputs": [],
   "source": []
  },
  {
   "cell_type": "code",
   "execution_count": null,
   "metadata": {},
   "outputs": [],
   "source": []
  },
  {
   "cell_type": "code",
   "execution_count": null,
   "metadata": {},
   "outputs": [],
   "source": []
  },
  {
   "cell_type": "code",
   "execution_count": null,
   "metadata": {},
   "outputs": [],
   "source": []
  }
 ],
 "metadata": {
  "kernelspec": {
   "display_name": "Python 2",
   "language": "python",
   "name": "python2"
  },
  "language_info": {
   "codemirror_mode": {
    "name": "ipython",
    "version": 2
   },
   "file_extension": ".py",
   "mimetype": "text/x-python",
   "name": "python",
   "nbconvert_exporter": "python",
   "pygments_lexer": "ipython2",
   "version": "2.7.12"
  }
 },
 "nbformat": 4,
 "nbformat_minor": 2
}
