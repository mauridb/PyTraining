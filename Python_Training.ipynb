{
 "cells": [
  {
   "cell_type": "markdown",
   "metadata": {},
   "source": [
    "# Training in Python:\n",
    "\n",
    "1) Return: a string formatted as a list of names separated by commas except for the last two names, which should be separated by an ampersand. [COMPLETED]\n",
    "\n",
    "        TODO:\n",
    "        - spiit init and end string\n",
    "        - check if lenght == 0\n",
    "        - check if lenght == 1\n",
    "        - format final result"
   ]
  },
  {
   "cell_type": "code",
   "execution_count": 1,
   "metadata": {},
   "outputs": [],
   "source": [
    "def namelist(names):\n",
    "    new_list = [elem['name'] for elem in names if elem['name'].isalpha()]\n",
    "    init_list = []\n",
    "    end_list = []\n",
    "    \n",
    "    for index, name in enumerate(new_list):\n",
    "        if len(new_list) >= 1:\n",
    "            if len(new_list) == 1:\n",
    "                return name\n",
    "            elif index < len(new_list)-2:\n",
    "                init_list.append(name)\n",
    "            else:\n",
    "                end_list.append(name)\n",
    "        \n",
    "    # prepare string format\n",
    "    if len(new_list) > 2:\n",
    "         return \"{}, {}\".format(\", \".join(init_list), \" & \".join(end_list))\n",
    "    elif len(new_list) == 2:\n",
    "        return \"{}\".format(\" & \".join(end_list))\n",
    "    elif len(new_list) == 0:\n",
    "        return \"\""
   ]
  },
  {
   "cell_type": "code",
   "execution_count": 2,
   "metadata": {},
   "outputs": [
    {
     "data": {
      "text/plain": [
       "'Bart, Lisa, Maggie, Homer & Marge'"
      ]
     },
     "execution_count": 2,
     "metadata": {},
     "output_type": "execute_result"
    }
   ],
   "source": [
    "namelist([{'name': 'Bart'},{'name': 'Lisa'},{'name': 'Maggie'},{'name': 'Homer'},{'name': 'Marge'}])"
   ]
  },
  {
   "cell_type": "code",
   "execution_count": 3,
   "metadata": {},
   "outputs": [
    {
     "data": {
      "text/plain": [
       "'Bart, Lisa & Maggie'"
      ]
     },
     "execution_count": 3,
     "metadata": {},
     "output_type": "execute_result"
    }
   ],
   "source": [
    "namelist([{'name': 'Bart'},{'name': 'Lisa'},{'name': 'Maggie'}])"
   ]
  },
  {
   "cell_type": "code",
   "execution_count": 4,
   "metadata": {},
   "outputs": [
    {
     "data": {
      "text/plain": [
       "'Bart & Lisa'"
      ]
     },
     "execution_count": 4,
     "metadata": {},
     "output_type": "execute_result"
    }
   ],
   "source": [
    "namelist([{'name': 'Bart'},{'name': 'Lisa'}])"
   ]
  },
  {
   "cell_type": "code",
   "execution_count": 5,
   "metadata": {},
   "outputs": [
    {
     "data": {
      "text/plain": [
       "''"
      ]
     },
     "execution_count": 5,
     "metadata": {},
     "output_type": "execute_result"
    }
   ],
   "source": [
    "namelist([])"
   ]
  },
  {
   "cell_type": "markdown",
   "metadata": {},
   "source": [
    "# @@@@@@@@@@@@@@@@@@@@@@@@@@@"
   ]
  },
  {
   "cell_type": "markdown",
   "metadata": {},
   "source": [
    "2) Write a reverseWords function that accepts a string a parameter, and reverses each word in the string. Any spaces in the string should be retained.[COMPLETED]"
   ]
  },
  {
   "cell_type": "code",
   "execution_count": 6,
   "metadata": {},
   "outputs": [],
   "source": [
    "def reverse_words(string):\n",
    "    return \" \".join([elem[::-1] for elem in string.split(\" \")])"
   ]
  },
  {
   "cell_type": "code",
   "execution_count": 7,
   "metadata": {},
   "outputs": [
    {
     "data": {
      "text/plain": [
       "'sihT si na !elpmaxe'"
      ]
     },
     "execution_count": 7,
     "metadata": {},
     "output_type": "execute_result"
    }
   ],
   "source": [
    "reverse_words('This is an example!')"
   ]
  },
  {
   "cell_type": "markdown",
   "metadata": {},
   "source": [
    "# @@@@@@@@@@@@@@@@@@@@@@@@@@@"
   ]
  },
  {
   "cell_type": "markdown",
   "metadata": {},
   "source": [
    "3) You have an array of numbers.Your task is to sort ascending odd numbers but even numbers must be on their places.Zero isn't an odd number and you don't need to move it. If you have an empty array, you need to return it.[COMPLETED]"
   ]
  },
  {
   "cell_type": "code",
   "execution_count": 8,
   "metadata": {},
   "outputs": [],
   "source": [
    "def sort_array(source_array):\n",
    "    result = sorted([elem for elem in source_array if elem % 2 == 1])\n",
    "    for index, item in enumerate(source_array):\n",
    "        if item % 2 == 0:\n",
    "            result.insert(index, item)\n",
    "    return result"
   ]
  },
  {
   "cell_type": "code",
   "execution_count": 9,
   "metadata": {},
   "outputs": [
    {
     "name": "stdout",
     "output_type": "stream",
     "text": [
      "[1, 3, 2, 8, 5, 4]\n",
      "[1, 3, 5, 8, 0]\n",
      "[1, 3, 9, 8, 0]\n"
     ]
    },
    {
     "data": {
      "text/plain": [
       "[]"
      ]
     },
     "execution_count": 9,
     "metadata": {},
     "output_type": "execute_result"
    }
   ],
   "source": [
    "print sort_array([5, 3, 2, 8, 1, 4])\n",
    "print sort_array([5, 3, 1, 8, 0])\n",
    "print sort_array([3, 9, 1, 8, 0])\n",
    "sort_array([])"
   ]
  },
  {
   "cell_type": "markdown",
   "metadata": {},
   "source": [
    "# @@@@@@@@@@@@@@@@@@@@@@@@@@@"
   ]
  },
  {
   "cell_type": "markdown",
   "metadata": {},
   "source": [
    "4) Write a function, which takes a non-negative integer (seconds) as input and returns the time in a human-readable format (HH:MM:SS)"
   ]
  },
  {
   "cell_type": "code",
   "execution_count": 10,
   "metadata": {},
   "outputs": [],
   "source": [
    "def make_readable(seconds):\n",
    "    try:\n",
    "        if int(seconds) > 359999:\n",
    "            return \"Not over 359999, please\"\n",
    "        mins, secs = divmod(seconds, 60)\n",
    "        hours, mins = divmod(mins, 60)        \n",
    "        result = \"{:02d}:{:02d}:{:02d}\".format(hours, mins, secs)\n",
    "        return result\n",
    "    \n",
    "    except Exception as e:\n",
    "        print e"
   ]
  },
  {
   "cell_type": "code",
   "execution_count": 11,
   "metadata": {},
   "outputs": [
    {
     "name": "stdout",
     "output_type": "stream",
     "text": [
      "00:00:00\n",
      "00:00:05\n",
      "00:01:00\n",
      "23:59:59\n",
      "99:59:59\n"
     ]
    }
   ],
   "source": [
    "print make_readable(0)\n",
    "print make_readable(5)\n",
    "print make_readable(60)\n",
    "print make_readable(86399)\n",
    "print make_readable(359999)"
   ]
  },
  {
   "cell_type": "markdown",
   "metadata": {},
   "source": []
  },
  {
   "cell_type": "markdown",
   "metadata": {},
   "source": [
    "5) You get an array of arrays.If you sort the arrays by their length, you will see, that their length-values are consecutive. But one array is missing! You have to write a method, that return the length of the missing array. If the array of arrays is null/nil or empty, the method should return 0.When an array in the array is null or empty, the method should return 0 too! There will always be a missing element and its length will be always between the given arrays.[COMPLETED]"
   ]
  },
  {
   "cell_type": "code",
   "execution_count": 131,
   "metadata": {},
   "outputs": [],
   "source": [
    "def get_length_of_missing_array(array_of_arrays):\n",
    "    if array_of_arrays is not None and type(array_of_arrays) != 'NoneType':\n",
    "        lenghts = [len(l) for l in array_of_arrays]\n",
    "        array_of_arrays.sort(key=len)\n",
    "#         print lenghts\n",
    "        result = 0\n",
    "        for elem in array_of_arrays:\n",
    "            if len(elem)+1 not in lenghts and len(elem)+1 < max(lenghts):\n",
    "#                 print 'not in lengths'\n",
    "                result = len(elem)+1\n",
    "        return result\n",
    "    else:\n",
    "        result = 0\n",
    "        return result"
   ]
  },
  {
   "cell_type": "code",
   "execution_count": 132,
   "metadata": {},
   "outputs": [
    {
     "name": "stdout",
     "output_type": "stream",
     "text": [
      "3\n",
      "2\n",
      "2\n",
      "5\n",
      "0\n"
     ]
    }
   ],
   "source": [
    "print get_length_of_missing_array([[1, 2], [4, 5, 1, 1], [1], [5, 6, 7, 8, 9]])\n",
    "print get_length_of_missing_array([[5, 2, 9], [4, 5, 1, 1], [1], [5, 6, 7, 8, 9]])\n",
    "print get_length_of_missing_array([[None], [None, None, None]])\n",
    "print get_length_of_missing_array([['a', 'a', 'a'], ['a', 'a'], ['a', 'a', 'a', 'a'], ['a'], ['a', 'a', 'a', 'a','a', 'a']])\n",
    "print get_length_of_missing_array(None)\n"
   ]
  },
  {
   "cell_type": "markdown",
   "metadata": {},
   "source": [
    "# @@@@@@@@@@@@@@@@@@@@@@@@@@@@@@@@@@@"
   ]
  },
  {
   "cell_type": "markdown",
   "metadata": {},
   "source": [
    "6) Once upon a time, on a way through the old wild west, a man was given directions to go from one point to another. The directions were \"NORTH\", \"SOUTH\", \"WEST\", \"EAST\". Clearly \"NORTH\" and \"SOUTH\" are opposite, \"WEST\" and \"EAST\" too. Going to one direction and coming back the opposite direction is a needless effort. Since this is the wild west, with dreadfull weather and not much water, it's important to save yourself some energy, otherwise you might die of thirst! Write a function dirReduc which will take an array of strings and returns an array of strings with the needless directions removed (W<->E or S<->N side by side)."
   ]
  },
  {
   "cell_type": "code",
   "execution_count": 144,
   "metadata": {},
   "outputs": [],
   "source": [
    "def dirReduc(arr):\n",
    "    result = []\n",
    "    for index, elem in enumerate(arr):\n",
    "        print index, elem\n",
    "        print index+1, arr[index+1]\n",
    "    return result"
   ]
  },
  {
   "cell_type": "code",
   "execution_count": 145,
   "metadata": {},
   "outputs": [
    {
     "name": "stdout",
     "output_type": "stream",
     "text": [
      "0 NORTH\n",
      "1 SOUTH\n",
      "1 SOUTH\n",
      "2 SOUTH\n",
      "2 SOUTH\n",
      "3 EAST\n",
      "3 EAST\n",
      "4 WEST\n",
      "4 WEST\n",
      "5 NORTH\n",
      "5 NORTH\n",
      "6 WEST\n",
      "6 WEST\n",
      "7"
     ]
    },
    {
     "ename": "IndexError",
     "evalue": "list index out of range",
     "output_type": "error",
     "traceback": [
      "\u001b[0;31m---------------------------------------------------------------------------\u001b[0m",
      "\u001b[0;31mIndexError\u001b[0m                                Traceback (most recent call last)",
      "\u001b[0;32m<ipython-input-145-0f531c674a3a>\u001b[0m in \u001b[0;36m<module>\u001b[0;34m()\u001b[0m\n\u001b[0;32m----> 1\u001b[0;31m \u001b[0;32mprint\u001b[0m \u001b[0mdirReduc\u001b[0m\u001b[0;34m(\u001b[0m\u001b[0;34m[\u001b[0m\u001b[0;34m\"NORTH\"\u001b[0m\u001b[0;34m,\u001b[0m \u001b[0;34m\"SOUTH\"\u001b[0m\u001b[0;34m,\u001b[0m \u001b[0;34m\"SOUTH\"\u001b[0m\u001b[0;34m,\u001b[0m \u001b[0;34m\"EAST\"\u001b[0m\u001b[0;34m,\u001b[0m \u001b[0;34m\"WEST\"\u001b[0m\u001b[0;34m,\u001b[0m \u001b[0;34m\"NORTH\"\u001b[0m\u001b[0;34m,\u001b[0m \u001b[0;34m\"WEST\"\u001b[0m\u001b[0;34m]\u001b[0m\u001b[0;34m)\u001b[0m\u001b[0;34m\u001b[0m\u001b[0m\n\u001b[0m\u001b[1;32m      2\u001b[0m \u001b[0;32mprint\u001b[0m \u001b[0mdirReduc\u001b[0m\u001b[0;34m(\u001b[0m\u001b[0;34m[\u001b[0m\u001b[0;34m\"NORTH\"\u001b[0m\u001b[0;34m,\u001b[0m \u001b[0;34m\"WEST\"\u001b[0m\u001b[0;34m,\u001b[0m \u001b[0;34m\"SOUTH\"\u001b[0m\u001b[0;34m,\u001b[0m \u001b[0;34m\"EAST\"\u001b[0m\u001b[0;34m]\u001b[0m\u001b[0;34m)\u001b[0m\u001b[0;34m\u001b[0m\u001b[0m\n",
      "\u001b[0;32m<ipython-input-144-d800a5b0f455>\u001b[0m in \u001b[0;36mdirReduc\u001b[0;34m(arr)\u001b[0m\n\u001b[1;32m      3\u001b[0m     \u001b[0;32mfor\u001b[0m \u001b[0mindex\u001b[0m\u001b[0;34m,\u001b[0m \u001b[0melem\u001b[0m \u001b[0;32min\u001b[0m \u001b[0menumerate\u001b[0m\u001b[0;34m(\u001b[0m\u001b[0marr\u001b[0m\u001b[0;34m)\u001b[0m\u001b[0;34m:\u001b[0m\u001b[0;34m\u001b[0m\u001b[0m\n\u001b[1;32m      4\u001b[0m         \u001b[0;32mprint\u001b[0m \u001b[0mindex\u001b[0m\u001b[0;34m,\u001b[0m \u001b[0melem\u001b[0m\u001b[0;34m\u001b[0m\u001b[0m\n\u001b[0;32m----> 5\u001b[0;31m         \u001b[0;32mprint\u001b[0m \u001b[0mindex\u001b[0m\u001b[0;34m+\u001b[0m\u001b[0;36m1\u001b[0m\u001b[0;34m,\u001b[0m \u001b[0marr\u001b[0m\u001b[0;34m[\u001b[0m\u001b[0mindex\u001b[0m\u001b[0;34m+\u001b[0m\u001b[0;36m1\u001b[0m\u001b[0;34m]\u001b[0m\u001b[0;34m\u001b[0m\u001b[0m\n\u001b[0m\u001b[1;32m      6\u001b[0m \u001b[0;34m\u001b[0m\u001b[0m\n\u001b[1;32m      7\u001b[0m \u001b[0;34m\u001b[0m\u001b[0m\n",
      "\u001b[0;31mIndexError\u001b[0m: list index out of range"
     ]
    }
   ],
   "source": [
    "print dirReduc([\"NORTH\", \"SOUTH\", \"SOUTH\", \"EAST\", \"WEST\", \"NORTH\", \"WEST\"])\n",
    "print dirReduc([\"NORTH\", \"WEST\", \"SOUTH\", \"EAST\"])"
   ]
  },
  {
   "cell_type": "code",
   "execution_count": null,
   "metadata": {},
   "outputs": [],
   "source": []
  },
  {
   "cell_type": "code",
   "execution_count": null,
   "metadata": {},
   "outputs": [],
   "source": []
  },
  {
   "cell_type": "code",
   "execution_count": null,
   "metadata": {},
   "outputs": [],
   "source": []
  },
  {
   "cell_type": "code",
   "execution_count": null,
   "metadata": {},
   "outputs": [],
   "source": []
  },
  {
   "cell_type": "code",
   "execution_count": null,
   "metadata": {},
   "outputs": [],
   "source": []
  },
  {
   "cell_type": "code",
   "execution_count": null,
   "metadata": {},
   "outputs": [],
   "source": []
  },
  {
   "cell_type": "code",
   "execution_count": null,
   "metadata": {},
   "outputs": [],
   "source": []
  },
  {
   "cell_type": "code",
   "execution_count": null,
   "metadata": {},
   "outputs": [],
   "source": []
  },
  {
   "cell_type": "code",
   "execution_count": null,
   "metadata": {},
   "outputs": [],
   "source": []
  }
 ],
 "metadata": {
  "kernelspec": {
   "display_name": "Python 2",
   "language": "python",
   "name": "python2"
  },
  "language_info": {
   "codemirror_mode": {
    "name": "ipython",
    "version": 2
   },
   "file_extension": ".py",
   "mimetype": "text/x-python",
   "name": "python",
   "nbconvert_exporter": "python",
   "pygments_lexer": "ipython2",
   "version": "2.7.12"
  }
 },
 "nbformat": 4,
 "nbformat_minor": 2
}
