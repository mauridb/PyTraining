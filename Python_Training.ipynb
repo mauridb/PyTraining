{
 "cells": [
  {
   "cell_type": "markdown",
   "metadata": {},
   "source": [
    "# Training in Python:\n",
    "\n",
    "1) Return: a string formatted as a list of names separated by commas except for the last two names, which should be separated by an ampersand. [COMPLETED]\n",
    "\n",
    "        TODO:\n",
    "        - spiit init and end string\n",
    "        - check if lenght == 0\n",
    "        - check if lenght == 1\n",
    "        - format final result"
   ]
  },
  {
   "cell_type": "code",
   "execution_count": 421,
   "metadata": {},
   "outputs": [],
   "source": [
    "def namelist(names):\n",
    "    new_list = [elem['name'] for elem in names if elem['name'].isalpha()]\n",
    "    init_list = []\n",
    "    end_list = []\n",
    "    \n",
    "    for index, name in enumerate(new_list):\n",
    "        if len(new_list) >= 1:\n",
    "            if len(new_list) == 1:\n",
    "                return name\n",
    "            elif index < len(new_list)-2:\n",
    "                init_list.append(name)\n",
    "            else:\n",
    "                end_list.append(name)\n",
    "        \n",
    "    # prepare string format\n",
    "    if len(new_list) > 2:\n",
    "         return \"{}, {}\".format(\", \".join(init_list), \" & \".join(end_list))\n",
    "    elif len(new_list) == 2:\n",
    "        return \"{}\".format(\" & \".join(end_list))\n",
    "    elif len(new_list) == 0:\n",
    "        return \"\""
   ]
  },
  {
   "cell_type": "code",
   "execution_count": 422,
   "metadata": {},
   "outputs": [
    {
     "data": {
      "text/plain": [
       "'Bart, Lisa, Maggie, Homer & Marge'"
      ]
     },
     "execution_count": 422,
     "metadata": {},
     "output_type": "execute_result"
    }
   ],
   "source": [
    "namelist([{'name': 'Bart'},{'name': 'Lisa'},{'name': 'Maggie'},{'name': 'Homer'},{'name': 'Marge'}])"
   ]
  },
  {
   "cell_type": "code",
   "execution_count": 423,
   "metadata": {},
   "outputs": [
    {
     "data": {
      "text/plain": [
       "'Bart, Lisa & Maggie'"
      ]
     },
     "execution_count": 423,
     "metadata": {},
     "output_type": "execute_result"
    }
   ],
   "source": [
    "namelist([{'name': 'Bart'},{'name': 'Lisa'},{'name': 'Maggie'}])"
   ]
  },
  {
   "cell_type": "code",
   "execution_count": 424,
   "metadata": {},
   "outputs": [
    {
     "data": {
      "text/plain": [
       "'Bart & Lisa'"
      ]
     },
     "execution_count": 424,
     "metadata": {},
     "output_type": "execute_result"
    }
   ],
   "source": [
    "namelist([{'name': 'Bart'},{'name': 'Lisa'}])"
   ]
  },
  {
   "cell_type": "code",
   "execution_count": 425,
   "metadata": {},
   "outputs": [
    {
     "data": {
      "text/plain": [
       "''"
      ]
     },
     "execution_count": 425,
     "metadata": {},
     "output_type": "execute_result"
    }
   ],
   "source": [
    "namelist([])"
   ]
  },
  {
   "cell_type": "markdown",
   "metadata": {},
   "source": [
    "# @@@@@@@@@@@@@@@@@@@@@@@@@@@"
   ]
  },
  {
   "cell_type": "markdown",
   "metadata": {},
   "source": [
    "2) Write a reverseWords function that accepts a string a parameter, and reverses each word in the string. Any spaces in the string should be retained.[COMPLETED]"
   ]
  },
  {
   "cell_type": "code",
   "execution_count": 426,
   "metadata": {},
   "outputs": [],
   "source": [
    "def reverse_words(string):\n",
    "    return \" \".join([elem[::-1] for elem in string.split(\" \")])"
   ]
  },
  {
   "cell_type": "code",
   "execution_count": 427,
   "metadata": {},
   "outputs": [
    {
     "data": {
      "text/plain": [
       "'sihT si na !elpmaxe'"
      ]
     },
     "execution_count": 427,
     "metadata": {},
     "output_type": "execute_result"
    }
   ],
   "source": [
    "reverse_words('This is an example!')"
   ]
  },
  {
   "cell_type": "markdown",
   "metadata": {},
   "source": [
    "# @@@@@@@@@@@@@@@@@@@@@@@@@@@"
   ]
  },
  {
   "cell_type": "markdown",
   "metadata": {},
   "source": [
    "3) You have an array of numbers.Your task is to sort ascending odd numbers but even numbers must be on their places.Zero isn't an odd number and you don't need to move it. If you have an empty array, you need to return it.[COMPLETED]"
   ]
  },
  {
   "cell_type": "code",
   "execution_count": 428,
   "metadata": {},
   "outputs": [],
   "source": [
    "def sort_array(source_array):\n",
    "    result = sorted([elem for elem in source_array if elem % 2 == 1])\n",
    "    for index, item in enumerate(source_array):\n",
    "        if item % 2 == 0:\n",
    "            result.insert(index, item)\n",
    "    return result"
   ]
  },
  {
   "cell_type": "code",
   "execution_count": 429,
   "metadata": {},
   "outputs": [
    {
     "name": "stdout",
     "output_type": "stream",
     "text": [
      "[1, 3, 2, 8, 5, 4]\n",
      "[1, 3, 5, 8, 0]\n",
      "[1, 3, 9, 8, 0]\n"
     ]
    },
    {
     "data": {
      "text/plain": [
       "[]"
      ]
     },
     "execution_count": 429,
     "metadata": {},
     "output_type": "execute_result"
    }
   ],
   "source": [
    "print sort_array([5, 3, 2, 8, 1, 4])\n",
    "print sort_array([5, 3, 1, 8, 0])\n",
    "print sort_array([3, 9, 1, 8, 0])\n",
    "sort_array([])"
   ]
  },
  {
   "cell_type": "markdown",
   "metadata": {},
   "source": [
    "# @@@@@@@@@@@@@@@@@@@@@@@@@@@"
   ]
  },
  {
   "cell_type": "markdown",
   "metadata": {},
   "source": [
    "4) Write a function, which takes a non-negative integer (seconds) as input and returns the time in a human-readable format (HH:MM:SS)"
   ]
  },
  {
   "cell_type": "code",
   "execution_count": 430,
   "metadata": {},
   "outputs": [],
   "source": [
    "def make_readable(seconds):\n",
    "    try:\n",
    "        if int(seconds) > 359999:\n",
    "            return \"Not over 359999, please\"\n",
    "        mins, secs = divmod(seconds, 60)\n",
    "        hours, mins = divmod(mins, 60)        \n",
    "        result = \"{:02d}:{:02d}:{:02d}\".format(hours, mins, secs)\n",
    "        return result\n",
    "    \n",
    "    except Exception as e:\n",
    "        print e"
   ]
  },
  {
   "cell_type": "code",
   "execution_count": 431,
   "metadata": {},
   "outputs": [
    {
     "name": "stdout",
     "output_type": "stream",
     "text": [
      "00:00:00\n",
      "00:00:05\n",
      "00:01:00\n",
      "23:59:59\n",
      "99:59:59\n"
     ]
    }
   ],
   "source": [
    "print make_readable(0)\n",
    "print make_readable(5)\n",
    "print make_readable(60)\n",
    "print make_readable(86399)\n",
    "print make_readable(359999)"
   ]
  },
  {
   "cell_type": "code",
   "execution_count": null,
   "metadata": {},
   "outputs": [],
   "source": []
  },
  {
   "cell_type": "code",
   "execution_count": null,
   "metadata": {},
   "outputs": [],
   "source": []
  },
  {
   "cell_type": "code",
   "execution_count": null,
   "metadata": {},
   "outputs": [],
   "source": []
  }
 ],
 "metadata": {
  "kernelspec": {
   "display_name": "Python 2",
   "language": "python",
   "name": "python2"
  },
  "language_info": {
   "codemirror_mode": {
    "name": "ipython",
    "version": 2
   },
   "file_extension": ".py",
   "mimetype": "text/x-python",
   "name": "python",
   "nbconvert_exporter": "python",
   "pygments_lexer": "ipython2",
   "version": "2.7.12"
  }
 },
 "nbformat": 4,
 "nbformat_minor": 2
}
